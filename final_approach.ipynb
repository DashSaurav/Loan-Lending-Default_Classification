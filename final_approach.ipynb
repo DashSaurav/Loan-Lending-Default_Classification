{
 "cells": [
  {
   "cell_type": "code",
   "execution_count": 1,
   "metadata": {},
   "outputs": [
    {
     "name": "stderr",
     "output_type": "stream",
     "text": [
      "c:\\Users\\saurav\\Anaconda3\\lib\\site-packages\\statsmodels\\tools\\_testing.py:19: FutureWarning: pandas.util.testing is deprecated. Use the functions in the public API at pandas.testing instead.\n",
      "  import pandas.util.testing as tm\n"
     ]
    }
   ],
   "source": [
    "import pandas as pd\n",
    "import seaborn as sns\n",
    "import matplotlib.pyplot as plt\n",
    "import numpy as np"
   ]
  },
  {
   "cell_type": "code",
   "execution_count": 2,
   "metadata": {},
   "outputs": [
    {
     "name": "stderr",
     "output_type": "stream",
     "text": [
      "c:\\Users\\saurav\\Anaconda3\\lib\\site-packages\\IPython\\core\\interactiveshell.py:3326: DtypeWarning: Columns (17,45,53) have mixed types.Specify dtype option on import or set low_memory=False.\n",
      "  exec(code_obj, self.user_global_ns, self.user_ns)\n"
     ]
    },
    {
     "data": {
      "text/html": [
       "<div>\n",
       "<style scoped>\n",
       "    .dataframe tbody tr th:only-of-type {\n",
       "        vertical-align: middle;\n",
       "    }\n",
       "\n",
       "    .dataframe tbody tr th {\n",
       "        vertical-align: top;\n",
       "    }\n",
       "\n",
       "    .dataframe thead th {\n",
       "        text-align: right;\n",
       "    }\n",
       "</style>\n",
       "<table border=\"1\" class=\"dataframe\">\n",
       "  <thead>\n",
       "    <tr style=\"text-align: right;\">\n",
       "      <th></th>\n",
       "      <th>id</th>\n",
       "      <th>member_id</th>\n",
       "      <th>loan_amnt</th>\n",
       "      <th>funded_amnt</th>\n",
       "      <th>funded_amnt_inv</th>\n",
       "      <th>term</th>\n",
       "      <th>int_rate</th>\n",
       "      <th>installment</th>\n",
       "      <th>grade</th>\n",
       "      <th>sub_grade</th>\n",
       "      <th>...</th>\n",
       "      <th>il_util</th>\n",
       "      <th>open_rv_12m</th>\n",
       "      <th>open_rv_24m</th>\n",
       "      <th>max_bal_bc</th>\n",
       "      <th>all_util</th>\n",
       "      <th>total_rev_hi_lim</th>\n",
       "      <th>inq_fi</th>\n",
       "      <th>total_cu_tl</th>\n",
       "      <th>inq_last_12m</th>\n",
       "      <th>default_ind</th>\n",
       "    </tr>\n",
       "  </thead>\n",
       "  <tbody>\n",
       "    <tr>\n",
       "      <th>0</th>\n",
       "      <td>1077501</td>\n",
       "      <td>1296599</td>\n",
       "      <td>5000.0</td>\n",
       "      <td>5000.0</td>\n",
       "      <td>4975.0</td>\n",
       "      <td>36 months</td>\n",
       "      <td>10.65</td>\n",
       "      <td>162.87</td>\n",
       "      <td>B</td>\n",
       "      <td>B2</td>\n",
       "      <td>...</td>\n",
       "      <td>NaN</td>\n",
       "      <td>NaN</td>\n",
       "      <td>NaN</td>\n",
       "      <td>NaN</td>\n",
       "      <td>NaN</td>\n",
       "      <td>NaN</td>\n",
       "      <td>NaN</td>\n",
       "      <td>NaN</td>\n",
       "      <td>NaN</td>\n",
       "      <td>0</td>\n",
       "    </tr>\n",
       "    <tr>\n",
       "      <th>1</th>\n",
       "      <td>1077430</td>\n",
       "      <td>1314167</td>\n",
       "      <td>2500.0</td>\n",
       "      <td>2500.0</td>\n",
       "      <td>2500.0</td>\n",
       "      <td>60 months</td>\n",
       "      <td>15.27</td>\n",
       "      <td>59.83</td>\n",
       "      <td>C</td>\n",
       "      <td>C4</td>\n",
       "      <td>...</td>\n",
       "      <td>NaN</td>\n",
       "      <td>NaN</td>\n",
       "      <td>NaN</td>\n",
       "      <td>NaN</td>\n",
       "      <td>NaN</td>\n",
       "      <td>NaN</td>\n",
       "      <td>NaN</td>\n",
       "      <td>NaN</td>\n",
       "      <td>NaN</td>\n",
       "      <td>1</td>\n",
       "    </tr>\n",
       "    <tr>\n",
       "      <th>2</th>\n",
       "      <td>1077175</td>\n",
       "      <td>1313524</td>\n",
       "      <td>2400.0</td>\n",
       "      <td>2400.0</td>\n",
       "      <td>2400.0</td>\n",
       "      <td>36 months</td>\n",
       "      <td>15.96</td>\n",
       "      <td>84.33</td>\n",
       "      <td>C</td>\n",
       "      <td>C5</td>\n",
       "      <td>...</td>\n",
       "      <td>NaN</td>\n",
       "      <td>NaN</td>\n",
       "      <td>NaN</td>\n",
       "      <td>NaN</td>\n",
       "      <td>NaN</td>\n",
       "      <td>NaN</td>\n",
       "      <td>NaN</td>\n",
       "      <td>NaN</td>\n",
       "      <td>NaN</td>\n",
       "      <td>0</td>\n",
       "    </tr>\n",
       "    <tr>\n",
       "      <th>3</th>\n",
       "      <td>1076863</td>\n",
       "      <td>1277178</td>\n",
       "      <td>10000.0</td>\n",
       "      <td>10000.0</td>\n",
       "      <td>10000.0</td>\n",
       "      <td>36 months</td>\n",
       "      <td>13.49</td>\n",
       "      <td>339.31</td>\n",
       "      <td>C</td>\n",
       "      <td>C1</td>\n",
       "      <td>...</td>\n",
       "      <td>NaN</td>\n",
       "      <td>NaN</td>\n",
       "      <td>NaN</td>\n",
       "      <td>NaN</td>\n",
       "      <td>NaN</td>\n",
       "      <td>NaN</td>\n",
       "      <td>NaN</td>\n",
       "      <td>NaN</td>\n",
       "      <td>NaN</td>\n",
       "      <td>0</td>\n",
       "    </tr>\n",
       "    <tr>\n",
       "      <th>4</th>\n",
       "      <td>1075358</td>\n",
       "      <td>1311748</td>\n",
       "      <td>3000.0</td>\n",
       "      <td>3000.0</td>\n",
       "      <td>3000.0</td>\n",
       "      <td>60 months</td>\n",
       "      <td>12.69</td>\n",
       "      <td>67.79</td>\n",
       "      <td>B</td>\n",
       "      <td>B5</td>\n",
       "      <td>...</td>\n",
       "      <td>NaN</td>\n",
       "      <td>NaN</td>\n",
       "      <td>NaN</td>\n",
       "      <td>NaN</td>\n",
       "      <td>NaN</td>\n",
       "      <td>NaN</td>\n",
       "      <td>NaN</td>\n",
       "      <td>NaN</td>\n",
       "      <td>NaN</td>\n",
       "      <td>0</td>\n",
       "    </tr>\n",
       "  </tbody>\n",
       "</table>\n",
       "<p>5 rows × 73 columns</p>\n",
       "</div>"
      ],
      "text/plain": [
       "        id  member_id  loan_amnt  funded_amnt  funded_amnt_inv        term  \\\n",
       "0  1077501    1296599     5000.0       5000.0           4975.0   36 months   \n",
       "1  1077430    1314167     2500.0       2500.0           2500.0   60 months   \n",
       "2  1077175    1313524     2400.0       2400.0           2400.0   36 months   \n",
       "3  1076863    1277178    10000.0      10000.0          10000.0   36 months   \n",
       "4  1075358    1311748     3000.0       3000.0           3000.0   60 months   \n",
       "\n",
       "   int_rate  installment grade sub_grade  ... il_util open_rv_12m open_rv_24m  \\\n",
       "0     10.65       162.87     B        B2  ...     NaN         NaN         NaN   \n",
       "1     15.27        59.83     C        C4  ...     NaN         NaN         NaN   \n",
       "2     15.96        84.33     C        C5  ...     NaN         NaN         NaN   \n",
       "3     13.49       339.31     C        C1  ...     NaN         NaN         NaN   \n",
       "4     12.69        67.79     B        B5  ...     NaN         NaN         NaN   \n",
       "\n",
       "   max_bal_bc all_util total_rev_hi_lim inq_fi total_cu_tl inq_last_12m  \\\n",
       "0         NaN      NaN              NaN    NaN         NaN          NaN   \n",
       "1         NaN      NaN              NaN    NaN         NaN          NaN   \n",
       "2         NaN      NaN              NaN    NaN         NaN          NaN   \n",
       "3         NaN      NaN              NaN    NaN         NaN          NaN   \n",
       "4         NaN      NaN              NaN    NaN         NaN          NaN   \n",
       "\n",
       "  default_ind  \n",
       "0           0  \n",
       "1           1  \n",
       "2           0  \n",
       "3           0  \n",
       "4           0  \n",
       "\n",
       "[5 rows x 73 columns]"
      ]
     },
     "execution_count": 2,
     "metadata": {},
     "output_type": "execute_result"
    }
   ],
   "source": [
    "df = pd.read_csv(\"output.csv\")\n",
    "df.head()"
   ]
  },
  {
   "cell_type": "code",
   "execution_count": 3,
   "metadata": {},
   "outputs": [
    {
     "data": {
      "text/plain": [
       "(855969, 73)"
      ]
     },
     "execution_count": 3,
     "metadata": {},
     "output_type": "execute_result"
    }
   ],
   "source": [
    "df.shape"
   ]
  },
  {
   "cell_type": "code",
   "execution_count": 4,
   "metadata": {},
   "outputs": [],
   "source": [
    "#function to find missing Value\n",
    "def missing_data(data):\n",
    "    total = data.isnull().sum().sort_values(ascending=False)\n",
    "    #percent = (data.isnull().sum()/data.isnull().count()).sort_values(ascending=False)\n",
    "    #missing_data = pd.concat([total, percent], axis=1, keys=['In Total', 'In Percentage'])\n",
    "    missing_data = pd.concat([total], axis=1, keys=['In Numbers'])\n",
    "    return(missing_data)"
   ]
  },
  {
   "cell_type": "code",
   "execution_count": 4,
   "metadata": {},
   "outputs": [
    {
     "data": {
      "text/html": [
       "<div>\n",
       "<style scoped>\n",
       "    .dataframe tbody tr th:only-of-type {\n",
       "        vertical-align: middle;\n",
       "    }\n",
       "\n",
       "    .dataframe tbody tr th {\n",
       "        vertical-align: top;\n",
       "    }\n",
       "\n",
       "    .dataframe thead th {\n",
       "        text-align: right;\n",
       "    }\n",
       "</style>\n",
       "<table border=\"1\" class=\"dataframe\">\n",
       "  <thead>\n",
       "    <tr style=\"text-align: right;\">\n",
       "      <th></th>\n",
       "      <th>In Numbers</th>\n",
       "    </tr>\n",
       "  </thead>\n",
       "  <tbody>\n",
       "    <tr>\n",
       "      <th>dti_joint</th>\n",
       "      <td>855529</td>\n",
       "    </tr>\n",
       "    <tr>\n",
       "      <th>annual_inc_joint</th>\n",
       "      <td>855527</td>\n",
       "    </tr>\n",
       "    <tr>\n",
       "      <th>verification_status_joint</th>\n",
       "      <td>855527</td>\n",
       "    </tr>\n",
       "    <tr>\n",
       "      <th>il_util</th>\n",
       "      <td>844360</td>\n",
       "    </tr>\n",
       "    <tr>\n",
       "      <th>mths_since_rcnt_il</th>\n",
       "      <td>843035</td>\n",
       "    </tr>\n",
       "    <tr>\n",
       "      <th>...</th>\n",
       "      <td>...</td>\n",
       "    </tr>\n",
       "    <tr>\n",
       "      <th>out_prncp</th>\n",
       "      <td>0</td>\n",
       "    </tr>\n",
       "    <tr>\n",
       "      <th>out_prncp_inv</th>\n",
       "      <td>0</td>\n",
       "    </tr>\n",
       "    <tr>\n",
       "      <th>member_id</th>\n",
       "      <td>0</td>\n",
       "    </tr>\n",
       "    <tr>\n",
       "      <th>total_pymnt_inv</th>\n",
       "      <td>0</td>\n",
       "    </tr>\n",
       "    <tr>\n",
       "      <th>default_ind</th>\n",
       "      <td>0</td>\n",
       "    </tr>\n",
       "  </tbody>\n",
       "</table>\n",
       "<p>73 rows × 1 columns</p>\n",
       "</div>"
      ],
      "text/plain": [
       "                           In Numbers\n",
       "dti_joint                      855529\n",
       "annual_inc_joint               855527\n",
       "verification_status_joint      855527\n",
       "il_util                        844360\n",
       "mths_since_rcnt_il             843035\n",
       "...                               ...\n",
       "out_prncp                           0\n",
       "out_prncp_inv                       0\n",
       "member_id                           0\n",
       "total_pymnt_inv                     0\n",
       "default_ind                         0\n",
       "\n",
       "[73 rows x 1 columns]"
      ]
     },
     "execution_count": 4,
     "metadata": {},
     "output_type": "execute_result"
    }
   ],
   "source": [
    "missing_data(df)"
   ]
  },
  {
   "cell_type": "code",
   "execution_count": 5,
   "metadata": {},
   "outputs": [],
   "source": [
    "# removing columns with more Null values like of somthing >(855969/2) \n",
    "lis_df_1=df.isnull().sum()\n",
    "for i in range(len(lis_df_1)):\n",
    "    if lis_df_1[i]>(855969/2):\n",
    "        del df['{}'.format(lis_df_1.index[i])]"
   ]
  },
  {
   "cell_type": "code",
   "execution_count": 6,
   "metadata": {},
   "outputs": [
    {
     "data": {
      "text/plain": [
       "(855969, 52)"
      ]
     },
     "execution_count": 6,
     "metadata": {},
     "output_type": "execute_result"
    }
   ],
   "source": [
    "df.shape"
   ]
  },
  {
   "cell_type": "code",
   "execution_count": 7,
   "metadata": {},
   "outputs": [
    {
     "data": {
      "text/html": [
       "<div>\n",
       "<style scoped>\n",
       "    .dataframe tbody tr th:only-of-type {\n",
       "        vertical-align: middle;\n",
       "    }\n",
       "\n",
       "    .dataframe tbody tr th {\n",
       "        vertical-align: top;\n",
       "    }\n",
       "\n",
       "    .dataframe thead th {\n",
       "        text-align: right;\n",
       "    }\n",
       "</style>\n",
       "<table border=\"1\" class=\"dataframe\">\n",
       "  <thead>\n",
       "    <tr style=\"text-align: right;\">\n",
       "      <th></th>\n",
       "      <th>In Numbers</th>\n",
       "    </tr>\n",
       "  </thead>\n",
       "  <tbody>\n",
       "    <tr>\n",
       "      <th>next_pymnt_d</th>\n",
       "      <td>252971</td>\n",
       "    </tr>\n",
       "    <tr>\n",
       "      <th>total_rev_hi_lim</th>\n",
       "      <td>67313</td>\n",
       "    </tr>\n",
       "    <tr>\n",
       "      <th>tot_cur_bal</th>\n",
       "      <td>67313</td>\n",
       "    </tr>\n",
       "    <tr>\n",
       "      <th>tot_coll_amt</th>\n",
       "      <td>67313</td>\n",
       "    </tr>\n",
       "    <tr>\n",
       "      <th>emp_title</th>\n",
       "      <td>49443</td>\n",
       "    </tr>\n",
       "    <tr>\n",
       "      <th>emp_length</th>\n",
       "      <td>43061</td>\n",
       "    </tr>\n",
       "    <tr>\n",
       "      <th>last_pymnt_d</th>\n",
       "      <td>8862</td>\n",
       "    </tr>\n",
       "    <tr>\n",
       "      <th>revol_util</th>\n",
       "      <td>446</td>\n",
       "    </tr>\n",
       "    <tr>\n",
       "      <th>collections_12_mths_ex_med</th>\n",
       "      <td>56</td>\n",
       "    </tr>\n",
       "    <tr>\n",
       "      <th>last_credit_pull_d</th>\n",
       "      <td>50</td>\n",
       "    </tr>\n",
       "    <tr>\n",
       "      <th>title</th>\n",
       "      <td>33</td>\n",
       "    </tr>\n",
       "    <tr>\n",
       "      <th>total_rec_int</th>\n",
       "      <td>0</td>\n",
       "    </tr>\n",
       "    <tr>\n",
       "      <th>out_prncp_inv</th>\n",
       "      <td>0</td>\n",
       "    </tr>\n",
       "    <tr>\n",
       "      <th>out_prncp</th>\n",
       "      <td>0</td>\n",
       "    </tr>\n",
       "    <tr>\n",
       "      <th>initial_list_status</th>\n",
       "      <td>0</td>\n",
       "    </tr>\n",
       "    <tr>\n",
       "      <th>total_pymnt</th>\n",
       "      <td>0</td>\n",
       "    </tr>\n",
       "    <tr>\n",
       "      <th>total_pymnt_inv</th>\n",
       "      <td>0</td>\n",
       "    </tr>\n",
       "    <tr>\n",
       "      <th>total_rec_prncp</th>\n",
       "      <td>0</td>\n",
       "    </tr>\n",
       "    <tr>\n",
       "      <th>id</th>\n",
       "      <td>0</td>\n",
       "    </tr>\n",
       "    <tr>\n",
       "      <th>last_pymnt_amnt</th>\n",
       "      <td>0</td>\n",
       "    </tr>\n",
       "    <tr>\n",
       "      <th>total_rec_late_fee</th>\n",
       "      <td>0</td>\n",
       "    </tr>\n",
       "    <tr>\n",
       "      <th>recoveries</th>\n",
       "      <td>0</td>\n",
       "    </tr>\n",
       "    <tr>\n",
       "      <th>collection_recovery_fee</th>\n",
       "      <td>0</td>\n",
       "    </tr>\n",
       "    <tr>\n",
       "      <th>policy_code</th>\n",
       "      <td>0</td>\n",
       "    </tr>\n",
       "    <tr>\n",
       "      <th>application_type</th>\n",
       "      <td>0</td>\n",
       "    </tr>\n",
       "    <tr>\n",
       "      <th>acc_now_delinq</th>\n",
       "      <td>0</td>\n",
       "    </tr>\n",
       "    <tr>\n",
       "      <th>total_acc</th>\n",
       "      <td>0</td>\n",
       "    </tr>\n",
       "    <tr>\n",
       "      <th>pub_rec</th>\n",
       "      <td>0</td>\n",
       "    </tr>\n",
       "    <tr>\n",
       "      <th>revol_bal</th>\n",
       "      <td>0</td>\n",
       "    </tr>\n",
       "    <tr>\n",
       "      <th>member_id</th>\n",
       "      <td>0</td>\n",
       "    </tr>\n",
       "    <tr>\n",
       "      <th>loan_amnt</th>\n",
       "      <td>0</td>\n",
       "    </tr>\n",
       "    <tr>\n",
       "      <th>funded_amnt</th>\n",
       "      <td>0</td>\n",
       "    </tr>\n",
       "    <tr>\n",
       "      <th>funded_amnt_inv</th>\n",
       "      <td>0</td>\n",
       "    </tr>\n",
       "    <tr>\n",
       "      <th>term</th>\n",
       "      <td>0</td>\n",
       "    </tr>\n",
       "    <tr>\n",
       "      <th>int_rate</th>\n",
       "      <td>0</td>\n",
       "    </tr>\n",
       "    <tr>\n",
       "      <th>installment</th>\n",
       "      <td>0</td>\n",
       "    </tr>\n",
       "    <tr>\n",
       "      <th>grade</th>\n",
       "      <td>0</td>\n",
       "    </tr>\n",
       "    <tr>\n",
       "      <th>sub_grade</th>\n",
       "      <td>0</td>\n",
       "    </tr>\n",
       "    <tr>\n",
       "      <th>home_ownership</th>\n",
       "      <td>0</td>\n",
       "    </tr>\n",
       "    <tr>\n",
       "      <th>annual_inc</th>\n",
       "      <td>0</td>\n",
       "    </tr>\n",
       "    <tr>\n",
       "      <th>verification_status</th>\n",
       "      <td>0</td>\n",
       "    </tr>\n",
       "    <tr>\n",
       "      <th>issue_d</th>\n",
       "      <td>0</td>\n",
       "    </tr>\n",
       "    <tr>\n",
       "      <th>pymnt_plan</th>\n",
       "      <td>0</td>\n",
       "    </tr>\n",
       "    <tr>\n",
       "      <th>purpose</th>\n",
       "      <td>0</td>\n",
       "    </tr>\n",
       "    <tr>\n",
       "      <th>zip_code</th>\n",
       "      <td>0</td>\n",
       "    </tr>\n",
       "    <tr>\n",
       "      <th>addr_state</th>\n",
       "      <td>0</td>\n",
       "    </tr>\n",
       "    <tr>\n",
       "      <th>dti</th>\n",
       "      <td>0</td>\n",
       "    </tr>\n",
       "    <tr>\n",
       "      <th>delinq_2yrs</th>\n",
       "      <td>0</td>\n",
       "    </tr>\n",
       "    <tr>\n",
       "      <th>earliest_cr_line</th>\n",
       "      <td>0</td>\n",
       "    </tr>\n",
       "    <tr>\n",
       "      <th>inq_last_6mths</th>\n",
       "      <td>0</td>\n",
       "    </tr>\n",
       "    <tr>\n",
       "      <th>open_acc</th>\n",
       "      <td>0</td>\n",
       "    </tr>\n",
       "    <tr>\n",
       "      <th>default_ind</th>\n",
       "      <td>0</td>\n",
       "    </tr>\n",
       "  </tbody>\n",
       "</table>\n",
       "</div>"
      ],
      "text/plain": [
       "                            In Numbers\n",
       "next_pymnt_d                    252971\n",
       "total_rev_hi_lim                 67313\n",
       "tot_cur_bal                      67313\n",
       "tot_coll_amt                     67313\n",
       "emp_title                        49443\n",
       "emp_length                       43061\n",
       "last_pymnt_d                      8862\n",
       "revol_util                         446\n",
       "collections_12_mths_ex_med          56\n",
       "last_credit_pull_d                  50\n",
       "title                               33\n",
       "total_rec_int                        0\n",
       "out_prncp_inv                        0\n",
       "out_prncp                            0\n",
       "initial_list_status                  0\n",
       "total_pymnt                          0\n",
       "total_pymnt_inv                      0\n",
       "total_rec_prncp                      0\n",
       "id                                   0\n",
       "last_pymnt_amnt                      0\n",
       "total_rec_late_fee                   0\n",
       "recoveries                           0\n",
       "collection_recovery_fee              0\n",
       "policy_code                          0\n",
       "application_type                     0\n",
       "acc_now_delinq                       0\n",
       "total_acc                            0\n",
       "pub_rec                              0\n",
       "revol_bal                            0\n",
       "member_id                            0\n",
       "loan_amnt                            0\n",
       "funded_amnt                          0\n",
       "funded_amnt_inv                      0\n",
       "term                                 0\n",
       "int_rate                             0\n",
       "installment                          0\n",
       "grade                                0\n",
       "sub_grade                            0\n",
       "home_ownership                       0\n",
       "annual_inc                           0\n",
       "verification_status                  0\n",
       "issue_d                              0\n",
       "pymnt_plan                           0\n",
       "purpose                              0\n",
       "zip_code                             0\n",
       "addr_state                           0\n",
       "dti                                  0\n",
       "delinq_2yrs                          0\n",
       "earliest_cr_line                     0\n",
       "inq_last_6mths                       0\n",
       "open_acc                             0\n",
       "default_ind                          0"
      ]
     },
     "execution_count": 7,
     "metadata": {},
     "output_type": "execute_result"
    }
   ],
   "source": [
    "missing_data(df)"
   ]
  },
  {
   "cell_type": "code",
   "execution_count": 7,
   "metadata": {},
   "outputs": [],
   "source": [
    "# dropping unwanted columns and which i feel not required.\n",
    "df=df.drop(['next_pymnt_d','total_rev_hi_lim','tot_cur_bal','tot_coll_amt','emp_title','id','member_id',\n",
    "'earliest_cr_line','zip_code','last_pymnt_d','policy_code'],axis=1)"
   ]
  },
  {
   "cell_type": "code",
   "execution_count": 8,
   "metadata": {},
   "outputs": [
    {
     "data": {
      "text/plain": [
       "(855969, 41)"
      ]
     },
     "execution_count": 8,
     "metadata": {},
     "output_type": "execute_result"
    }
   ],
   "source": [
    "df.shape"
   ]
  },
  {
   "cell_type": "code",
   "execution_count": 10,
   "metadata": {},
   "outputs": [
    {
     "name": "stdout",
     "output_type": "stream",
     "text": [
      "<class 'pandas.core.frame.DataFrame'>\n",
      "RangeIndex: 855969 entries, 0 to 855968\n",
      "Data columns (total 41 columns):\n",
      " #   Column                      Non-Null Count   Dtype  \n",
      "---  ------                      --------------   -----  \n",
      " 0   loan_amnt                   855969 non-null  float64\n",
      " 1   funded_amnt                 855969 non-null  float64\n",
      " 2   funded_amnt_inv             855969 non-null  float64\n",
      " 3   term                        855969 non-null  object \n",
      " 4   int_rate                    855969 non-null  float64\n",
      " 5   installment                 855969 non-null  float64\n",
      " 6   grade                       855969 non-null  object \n",
      " 7   sub_grade                   855969 non-null  object \n",
      " 8   emp_length                  812908 non-null  object \n",
      " 9   home_ownership              855969 non-null  object \n",
      " 10  annual_inc                  855969 non-null  float64\n",
      " 11  verification_status         855969 non-null  object \n",
      " 12  issue_d                     855969 non-null  object \n",
      " 13  pymnt_plan                  855969 non-null  object \n",
      " 14  purpose                     855969 non-null  object \n",
      " 15  title                       855936 non-null  object \n",
      " 16  addr_state                  855969 non-null  object \n",
      " 17  dti                         855969 non-null  float64\n",
      " 18  delinq_2yrs                 855969 non-null  float64\n",
      " 19  inq_last_6mths              855969 non-null  float64\n",
      " 20  open_acc                    855969 non-null  float64\n",
      " 21  pub_rec                     855969 non-null  float64\n",
      " 22  revol_bal                   855969 non-null  float64\n",
      " 23  revol_util                  855523 non-null  float64\n",
      " 24  total_acc                   855969 non-null  float64\n",
      " 25  initial_list_status         855969 non-null  object \n",
      " 26  out_prncp                   855969 non-null  float64\n",
      " 27  out_prncp_inv               855969 non-null  float64\n",
      " 28  total_pymnt                 855969 non-null  float64\n",
      " 29  total_pymnt_inv             855969 non-null  float64\n",
      " 30  total_rec_prncp             855969 non-null  float64\n",
      " 31  total_rec_int               855969 non-null  float64\n",
      " 32  total_rec_late_fee          855969 non-null  float64\n",
      " 33  recoveries                  855969 non-null  float64\n",
      " 34  collection_recovery_fee     855969 non-null  float64\n",
      " 35  last_pymnt_amnt             855969 non-null  float64\n",
      " 36  last_credit_pull_d          855919 non-null  object \n",
      " 37  collections_12_mths_ex_med  855913 non-null  float64\n",
      " 38  application_type            855969 non-null  object \n",
      " 39  acc_now_delinq              855969 non-null  float64\n",
      " 40  default_ind                 855969 non-null  int64  \n",
      "dtypes: float64(26), int64(1), object(14)\n",
      "memory usage: 267.8+ MB\n"
     ]
    }
   ],
   "source": [
    "df.info()"
   ]
  },
  {
   "cell_type": "code",
   "execution_count": 9,
   "metadata": {},
   "outputs": [
    {
     "data": {
      "text/html": [
       "<div>\n",
       "<style scoped>\n",
       "    .dataframe tbody tr th:only-of-type {\n",
       "        vertical-align: middle;\n",
       "    }\n",
       "\n",
       "    .dataframe tbody tr th {\n",
       "        vertical-align: top;\n",
       "    }\n",
       "\n",
       "    .dataframe thead th {\n",
       "        text-align: right;\n",
       "    }\n",
       "</style>\n",
       "<table border=\"1\" class=\"dataframe\">\n",
       "  <thead>\n",
       "    <tr style=\"text-align: right;\">\n",
       "      <th></th>\n",
       "      <th>In Numbers</th>\n",
       "    </tr>\n",
       "  </thead>\n",
       "  <tbody>\n",
       "    <tr>\n",
       "      <th>emp_length</th>\n",
       "      <td>43061</td>\n",
       "    </tr>\n",
       "    <tr>\n",
       "      <th>revol_util</th>\n",
       "      <td>446</td>\n",
       "    </tr>\n",
       "    <tr>\n",
       "      <th>collections_12_mths_ex_med</th>\n",
       "      <td>56</td>\n",
       "    </tr>\n",
       "    <tr>\n",
       "      <th>last_credit_pull_d</th>\n",
       "      <td>50</td>\n",
       "    </tr>\n",
       "    <tr>\n",
       "      <th>title</th>\n",
       "      <td>33</td>\n",
       "    </tr>\n",
       "    <tr>\n",
       "      <th>total_rec_prncp</th>\n",
       "      <td>0</td>\n",
       "    </tr>\n",
       "    <tr>\n",
       "      <th>total_acc</th>\n",
       "      <td>0</td>\n",
       "    </tr>\n",
       "    <tr>\n",
       "      <th>initial_list_status</th>\n",
       "      <td>0</td>\n",
       "    </tr>\n",
       "    <tr>\n",
       "      <th>out_prncp</th>\n",
       "      <td>0</td>\n",
       "    </tr>\n",
       "    <tr>\n",
       "      <th>out_prncp_inv</th>\n",
       "      <td>0</td>\n",
       "    </tr>\n",
       "    <tr>\n",
       "      <th>total_pymnt</th>\n",
       "      <td>0</td>\n",
       "    </tr>\n",
       "    <tr>\n",
       "      <th>total_pymnt_inv</th>\n",
       "      <td>0</td>\n",
       "    </tr>\n",
       "    <tr>\n",
       "      <th>loan_amnt</th>\n",
       "      <td>0</td>\n",
       "    </tr>\n",
       "    <tr>\n",
       "      <th>total_rec_int</th>\n",
       "      <td>0</td>\n",
       "    </tr>\n",
       "    <tr>\n",
       "      <th>revol_bal</th>\n",
       "      <td>0</td>\n",
       "    </tr>\n",
       "    <tr>\n",
       "      <th>recoveries</th>\n",
       "      <td>0</td>\n",
       "    </tr>\n",
       "    <tr>\n",
       "      <th>collection_recovery_fee</th>\n",
       "      <td>0</td>\n",
       "    </tr>\n",
       "    <tr>\n",
       "      <th>last_pymnt_amnt</th>\n",
       "      <td>0</td>\n",
       "    </tr>\n",
       "    <tr>\n",
       "      <th>application_type</th>\n",
       "      <td>0</td>\n",
       "    </tr>\n",
       "    <tr>\n",
       "      <th>acc_now_delinq</th>\n",
       "      <td>0</td>\n",
       "    </tr>\n",
       "    <tr>\n",
       "      <th>total_rec_late_fee</th>\n",
       "      <td>0</td>\n",
       "    </tr>\n",
       "    <tr>\n",
       "      <th>open_acc</th>\n",
       "      <td>0</td>\n",
       "    </tr>\n",
       "    <tr>\n",
       "      <th>pub_rec</th>\n",
       "      <td>0</td>\n",
       "    </tr>\n",
       "    <tr>\n",
       "      <th>annual_inc</th>\n",
       "      <td>0</td>\n",
       "    </tr>\n",
       "    <tr>\n",
       "      <th>funded_amnt_inv</th>\n",
       "      <td>0</td>\n",
       "    </tr>\n",
       "    <tr>\n",
       "      <th>term</th>\n",
       "      <td>0</td>\n",
       "    </tr>\n",
       "    <tr>\n",
       "      <th>int_rate</th>\n",
       "      <td>0</td>\n",
       "    </tr>\n",
       "    <tr>\n",
       "      <th>installment</th>\n",
       "      <td>0</td>\n",
       "    </tr>\n",
       "    <tr>\n",
       "      <th>grade</th>\n",
       "      <td>0</td>\n",
       "    </tr>\n",
       "    <tr>\n",
       "      <th>sub_grade</th>\n",
       "      <td>0</td>\n",
       "    </tr>\n",
       "    <tr>\n",
       "      <th>home_ownership</th>\n",
       "      <td>0</td>\n",
       "    </tr>\n",
       "    <tr>\n",
       "      <th>verification_status</th>\n",
       "      <td>0</td>\n",
       "    </tr>\n",
       "    <tr>\n",
       "      <th>funded_amnt</th>\n",
       "      <td>0</td>\n",
       "    </tr>\n",
       "    <tr>\n",
       "      <th>issue_d</th>\n",
       "      <td>0</td>\n",
       "    </tr>\n",
       "    <tr>\n",
       "      <th>pymnt_plan</th>\n",
       "      <td>0</td>\n",
       "    </tr>\n",
       "    <tr>\n",
       "      <th>purpose</th>\n",
       "      <td>0</td>\n",
       "    </tr>\n",
       "    <tr>\n",
       "      <th>addr_state</th>\n",
       "      <td>0</td>\n",
       "    </tr>\n",
       "    <tr>\n",
       "      <th>dti</th>\n",
       "      <td>0</td>\n",
       "    </tr>\n",
       "    <tr>\n",
       "      <th>delinq_2yrs</th>\n",
       "      <td>0</td>\n",
       "    </tr>\n",
       "    <tr>\n",
       "      <th>inq_last_6mths</th>\n",
       "      <td>0</td>\n",
       "    </tr>\n",
       "    <tr>\n",
       "      <th>default_ind</th>\n",
       "      <td>0</td>\n",
       "    </tr>\n",
       "  </tbody>\n",
       "</table>\n",
       "</div>"
      ],
      "text/plain": [
       "                            In Numbers\n",
       "emp_length                       43061\n",
       "revol_util                         446\n",
       "collections_12_mths_ex_med          56\n",
       "last_credit_pull_d                  50\n",
       "title                               33\n",
       "total_rec_prncp                      0\n",
       "total_acc                            0\n",
       "initial_list_status                  0\n",
       "out_prncp                            0\n",
       "out_prncp_inv                        0\n",
       "total_pymnt                          0\n",
       "total_pymnt_inv                      0\n",
       "loan_amnt                            0\n",
       "total_rec_int                        0\n",
       "revol_bal                            0\n",
       "recoveries                           0\n",
       "collection_recovery_fee              0\n",
       "last_pymnt_amnt                      0\n",
       "application_type                     0\n",
       "acc_now_delinq                       0\n",
       "total_rec_late_fee                   0\n",
       "open_acc                             0\n",
       "pub_rec                              0\n",
       "annual_inc                           0\n",
       "funded_amnt_inv                      0\n",
       "term                                 0\n",
       "int_rate                             0\n",
       "installment                          0\n",
       "grade                                0\n",
       "sub_grade                            0\n",
       "home_ownership                       0\n",
       "verification_status                  0\n",
       "funded_amnt                          0\n",
       "issue_d                              0\n",
       "pymnt_plan                           0\n",
       "purpose                              0\n",
       "addr_state                           0\n",
       "dti                                  0\n",
       "delinq_2yrs                          0\n",
       "inq_last_6mths                       0\n",
       "default_ind                          0"
      ]
     },
     "execution_count": 9,
     "metadata": {},
     "output_type": "execute_result"
    }
   ],
   "source": [
    "missing_data(df)"
   ]
  },
  {
   "cell_type": "code",
   "execution_count": 8,
   "metadata": {},
   "outputs": [],
   "source": [
    "#feature enginearing on last_credit_pull_d feature\n",
    "df['last_credit_pull_d'] = pd.to_datetime(df['last_credit_pull_d'])\n",
    "df['Month'] = df['last_credit_pull_d'].apply(lambda x: x.month)\n",
    "df['Year'] = df['last_credit_pull_d'].apply(lambda x: x.year)\n",
    "df = df.drop(['last_credit_pull_d'], axis = 1)"
   ]
  },
  {
   "cell_type": "code",
   "execution_count": 9,
   "metadata": {},
   "outputs": [],
   "source": [
    "#imputing missing value with mode value \n",
    "df['Month'].fillna(df.mode()['Month'][0],inplace=True)\n",
    "df['Year'].fillna(df.mode()['Year'][0],inplace=True)"
   ]
  },
  {
   "cell_type": "code",
   "execution_count": 10,
   "metadata": {},
   "outputs": [
    {
     "data": {
      "text/plain": [
       "<matplotlib.axes._subplots.AxesSubplot at 0x20c60357c88>"
      ]
     },
     "execution_count": 10,
     "metadata": {},
     "output_type": "execute_result"
    },
    {
     "data": {
      "image/png": "[encoded data removed]",
      "text/plain": [
       "<Figure size 720x720 with 2 Axes>"
      ]
     },
     "metadata": {
      "needs_background": "light"
     },
     "output_type": "display_data"
    }
   ],
   "source": [
    "defaulter = df.loc[df['default_ind']==1]\n",
    "plt.figure(figsize=(10,10))\n",
    "plt.subplot(211)\n",
    "sns.boxplot(data=defaulter,x = 'home_ownership',y='loan_amnt',hue='default_ind')\n",
    "plt.subplot(212)\n",
    "sns.boxplot(data=defaulter,x='Year',y='loan_amnt',hue='home_ownership')"
   ]
  },
  {
   "cell_type": "code",
   "execution_count": 13,
   "metadata": {},
   "outputs": [
    {
     "data": {
      "text/plain": [
       "Debt consolidation           398089\n",
       "Credit card refinancing      159228\n",
       "Home improvement              38633\n",
       "Other                         30522\n",
       "Debt Consolidation            15469\n",
       "                              ...  \n",
       "Unique Loan                       1\n",
       "FINALLY HOPE                      1\n",
       "Credit Card Debt be Gone!         1\n",
       "get this debt paid off            1\n",
       "Credit Card/Auto Repair           1\n",
       "Name: title, Length: 60991, dtype: int64"
      ]
     },
     "execution_count": 13,
     "metadata": {},
     "output_type": "execute_result"
    }
   ],
   "source": [
    "df.title.value_counts()"
   ]
  },
  {
   "cell_type": "code",
   "execution_count": 12,
   "metadata": {},
   "outputs": [],
   "source": [
    "#to impute missing na value with debt_consolidation because its is most repeted value\n",
    "df['title'].fillna('Debt consolidation ',inplace=True)"
   ]
  },
  {
   "cell_type": "code",
   "execution_count": 30,
   "metadata": {},
   "outputs": [],
   "source": [
    "## converting dtypes of columns"
   ]
  },
  {
   "cell_type": "code",
   "execution_count": 15,
   "metadata": {},
   "outputs": [
    {
     "data": {
      "text/plain": [
       " 36 months    600221\n",
       " 60 months    255748\n",
       "Name: term, dtype: int64"
      ]
     },
     "execution_count": 15,
     "metadata": {},
     "output_type": "execute_result"
    }
   ],
   "source": [
    "df.term.value_counts()"
   ]
  },
  {
   "cell_type": "code",
   "execution_count": 13,
   "metadata": {},
   "outputs": [
    {
     "data": {
      "text/plain": [
       "0    600221\n",
       "1    255748\n",
       "Name: term, dtype: int64"
      ]
     },
     "execution_count": 13,
     "metadata": {},
     "output_type": "execute_result"
    }
   ],
   "source": [
    "df.term=df.term.str.extract('(\\d+)')\n",
    "term_list={'36':0,'60':1}\n",
    "df.term=[term_list[item]for item in df.term]\n",
    "df.term.value_counts()"
   ]
  },
  {
   "cell_type": "code",
   "execution_count": 17,
   "metadata": {},
   "outputs": [
    {
     "data": {
      "text/plain": [
       "10+ years    282090\n",
       "2 years       75986\n",
       "< 1 year      67597\n",
       "3 years       67392\n",
       "1 year        54855\n",
       "5 years       53812\n",
       "4 years       50643\n",
       "7 years       43204\n",
       "8 years       42421\n",
       "6 years       41446\n",
       "9 years       33462\n",
       "Name: emp_length, dtype: int64"
      ]
     },
     "execution_count": 17,
     "metadata": {},
     "output_type": "execute_result"
    }
   ],
   "source": [
    "df.emp_length.value_counts()"
   ]
  },
  {
   "cell_type": "code",
   "execution_count": 14,
   "metadata": {},
   "outputs": [],
   "source": [
    "df=df.replace(to_replace='10+ years',value=10)\n",
    "df=df.replace(to_replace='1 year',value=1)\n",
    "df=df.replace(to_replace='2 years',value=2)\n",
    "df=df.replace(to_replace='3 years',value=3)\n",
    "df=df.replace(to_replace='4 years',value=4)\n",
    "df=df.replace(to_replace='5 years',value=5)\n",
    "df=df.replace(to_replace='6 years',value=6)\n",
    "df=df.replace(to_replace='7 years',value=7)\n",
    "df=df.replace(to_replace='8 years',value=8)\n",
    "df=df.replace(to_replace='9 years',value=9)\n",
    "df=df.replace(to_replace='< 1 year',value=0.5)"
   ]
  },
  {
   "cell_type": "code",
   "execution_count": 15,
   "metadata": {},
   "outputs": [
    {
     "data": {
      "text/plain": [
       "10.0    282090\n",
       "2.0      75986\n",
       "0.5      67597\n",
       "3.0      67392\n",
       "1.0      54855\n",
       "5.0      53812\n",
       "4.0      50643\n",
       "7.0      43204\n",
       "8.0      42421\n",
       "6.0      41446\n",
       "9.0      33462\n",
       "Name: emp_length, dtype: int64"
      ]
     },
     "execution_count": 15,
     "metadata": {},
     "output_type": "execute_result"
    }
   ],
   "source": [
    "df.emp_length.value_counts()"
   ]
  },
  {
   "cell_type": "code",
   "execution_count": 20,
   "metadata": {},
   "outputs": [
    {
     "data": {
      "text/plain": [
       "B    247998\n",
       "C    236855\n",
       "A    145665\n",
       "D    132802\n",
       "E     66448\n",
       "F     21328\n",
       "G      4873\n",
       "Name: grade, dtype: int64"
      ]
     },
     "execution_count": 20,
     "metadata": {},
     "output_type": "execute_result"
    }
   ],
   "source": [
    "df.grade.value_counts()"
   ]
  },
  {
   "cell_type": "code",
   "execution_count": 16,
   "metadata": {},
   "outputs": [
    {
     "data": {
      "text/plain": [
       "2    247998\n",
       "3    236855\n",
       "4    199250\n",
       "1    145665\n",
       "5     21328\n",
       "6      4873\n",
       "Name: grade, dtype: int64"
      ]
     },
     "execution_count": 16,
     "metadata": {},
     "output_type": "execute_result"
    }
   ],
   "source": [
    "grade_list={'A':1,'B':2,'C':3,'D':4,'E':4,'F':5,'G':6}\n",
    "df.grade=[grade_list[item]for item in df.grade]\n",
    "df.grade.value_counts()"
   ]
  },
  {
   "cell_type": "code",
   "execution_count": 17,
   "metadata": {},
   "outputs": [],
   "source": [
    "from sklearn.preprocessing import LabelEncoder\n",
    "le = LabelEncoder()"
   ]
  },
  {
   "cell_type": "code",
   "execution_count": 18,
   "metadata": {},
   "outputs": [
    {
     "data": {
      "text/plain": [
       "7     54958\n",
       "8     54116\n",
       "10    51588\n",
       "11    50457\n",
       "12    48337\n",
       "6     47589\n",
       "9     47333\n",
       "13    46941\n",
       "5     44002\n",
       "4     43957\n",
       "14    39532\n",
       "15    34667\n",
       "3     33991\n",
       "16    28385\n",
       "17    25289\n",
       "18    24253\n",
       "2     23095\n",
       "0     22516\n",
       "1     22106\n",
       "19    20208\n",
       "20    17230\n",
       "21    15994\n",
       "22    13294\n",
       "23    11011\n",
       "24     8919\n",
       "25     6702\n",
       "26     4979\n",
       "27     4099\n",
       "28     3168\n",
       "29     2380\n",
       "30     1698\n",
       "31     1259\n",
       "32      877\n",
       "33      570\n",
       "34      469\n",
       "Name: sub_grade, dtype: int64"
      ]
     },
     "execution_count": 18,
     "metadata": {},
     "output_type": "execute_result"
    }
   ],
   "source": [
    "df['sub_grade'] = le.fit_transform(df['sub_grade'])\n",
    "df.sub_grade.value_counts()"
   ]
  },
  {
   "cell_type": "code",
   "execution_count": 19,
   "metadata": {},
   "outputs": [
    {
     "data": {
      "text/plain": [
       "MORTGAGE    429106\n",
       "RENT        342535\n",
       "OWN          84136\n",
       "OTHER          144\n",
       "NONE            45\n",
       "ANY              3\n",
       "Name: home_ownership, dtype: int64"
      ]
     },
     "execution_count": 19,
     "metadata": {},
     "output_type": "execute_result"
    }
   ],
   "source": [
    "df.home_ownership.value_counts()"
   ]
  },
  {
   "cell_type": "code",
   "execution_count": 20,
   "metadata": {},
   "outputs": [
    {
     "data": {
      "text/plain": [
       "1    429106\n",
       "5    342535\n",
       "4     84136\n",
       "3       144\n",
       "2        45\n",
       "0         3\n",
       "Name: home_ownership, dtype: int64"
      ]
     },
     "execution_count": 20,
     "metadata": {},
     "output_type": "execute_result"
    }
   ],
   "source": [
    "df['home_ownership'] = le.fit_transform(df['home_ownership'])\n",
    "df.home_ownership.value_counts()"
   ]
  },
  {
   "cell_type": "code",
   "execution_count": 21,
   "metadata": {},
   "outputs": [
    {
     "data": {
      "text/plain": [
       "Source Verified    318178\n",
       "Verified           280049\n",
       "Not Verified       257742\n",
       "Name: verification_status, dtype: int64"
      ]
     },
     "execution_count": 21,
     "metadata": {},
     "output_type": "execute_result"
    }
   ],
   "source": [
    "df.verification_status.value_counts()"
   ]
  },
  {
   "cell_type": "code",
   "execution_count": 22,
   "metadata": {},
   "outputs": [
    {
     "data": {
      "text/plain": [
       "1    318178\n",
       "2    280049\n",
       "0    257742\n",
       "Name: verification_status, dtype: int64"
      ]
     },
     "execution_count": 22,
     "metadata": {},
     "output_type": "execute_result"
    }
   ],
   "source": [
    "df['verification_status'] = le.fit_transform(df['verification_status'])\n",
    "df.verification_status.value_counts()"
   ]
  },
  {
   "cell_type": "code",
   "execution_count": 23,
   "metadata": {},
   "outputs": [
    {
     "data": {
      "text/plain": [
       "n    855964\n",
       "y         5\n",
       "Name: pymnt_plan, dtype: int64"
      ]
     },
     "execution_count": 23,
     "metadata": {},
     "output_type": "execute_result"
    }
   ],
   "source": [
    "df.pymnt_plan.value_counts()"
   ]
  },
  {
   "cell_type": "code",
   "execution_count": 24,
   "metadata": {},
   "outputs": [
    {
     "data": {
      "text/plain": [
       "0    855964\n",
       "1         5\n",
       "Name: pymnt_plan, dtype: int64"
      ]
     },
     "execution_count": 24,
     "metadata": {},
     "output_type": "execute_result"
    }
   ],
   "source": [
    "df['pymnt_plan'] = le.fit_transform(df['pymnt_plan'])\n",
    "df.pymnt_plan.value_counts()"
   ]
  },
  {
   "cell_type": "code",
   "execution_count": 25,
   "metadata": {},
   "outputs": [
    {
     "data": {
      "text/plain": [
       "debt_consolidation    505392\n",
       "credit_card           200144\n",
       "home_improvement       49956\n",
       "other                  40949\n",
       "major_purchase         16587\n",
       "small_business          9785\n",
       "car                     8593\n",
       "medical                 8193\n",
       "moving                  5160\n",
       "vacation                4542\n",
       "house                   3513\n",
       "wedding                 2280\n",
       "renewable_energy         549\n",
       "educational              326\n",
       "Name: purpose, dtype: int64"
      ]
     },
     "execution_count": 25,
     "metadata": {},
     "output_type": "execute_result"
    }
   ],
   "source": [
    "df.purpose.value_counts()"
   ]
  },
  {
   "cell_type": "code",
   "execution_count": 26,
   "metadata": {},
   "outputs": [
    {
     "data": {
      "text/plain": [
       "2     505392\n",
       "1     200144\n",
       "4      49956\n",
       "9      40949\n",
       "6      16587\n",
       "11      9785\n",
       "0       8593\n",
       "7       8193\n",
       "8       5160\n",
       "12      4542\n",
       "5       3513\n",
       "13      2280\n",
       "10       549\n",
       "3        326\n",
       "Name: purpose, dtype: int64"
      ]
     },
     "execution_count": 26,
     "metadata": {},
     "output_type": "execute_result"
    }
   ],
   "source": [
    "df['purpose'] = le.fit_transform(df['purpose'])\n",
    "df.purpose.value_counts()"
   ]
  },
  {
   "cell_type": "code",
   "execution_count": 27,
   "metadata": {},
   "outputs": [
    {
     "data": {
      "text/plain": [
       "Debt consolidation           398089\n",
       "Credit card refinancing      159228\n",
       "Home improvement              38633\n",
       "Other                         30522\n",
       "Debt Consolidation            15469\n",
       "                              ...  \n",
       "Unique Loan                       1\n",
       "FINALLY HOPE                      1\n",
       "Credit Card Debt be Gone!         1\n",
       "get this debt paid off            1\n",
       "Credit Card/Auto Repair           1\n",
       "Name: title, Length: 60991, dtype: int64"
      ]
     },
     "execution_count": 27,
     "metadata": {},
     "output_type": "execute_result"
    }
   ],
   "source": [
    "df.title.value_counts()"
   ]
  },
  {
   "cell_type": "code",
   "execution_count": 33,
   "metadata": {},
   "outputs": [
    {
     "name": "stdout",
     "output_type": "stream",
     "text": [
      "<class 'pandas.core.frame.DataFrame'>\n",
      "RangeIndex: 855969 entries, 0 to 855968\n",
      "Data columns (total 42 columns):\n",
      " #   Column                      Non-Null Count   Dtype  \n",
      "---  ------                      --------------   -----  \n",
      " 0   loan_amnt                   855969 non-null  float64\n",
      " 1   funded_amnt                 855969 non-null  float64\n",
      " 2   funded_amnt_inv             855969 non-null  float64\n",
      " 3   term                        855969 non-null  int64  \n",
      " 4   int_rate                    855969 non-null  float64\n",
      " 5   installment                 855969 non-null  float64\n",
      " 6   grade                       855969 non-null  int64  \n",
      " 7   sub_grade                   855969 non-null  int32  \n",
      " 8   emp_length                  812908 non-null  float64\n",
      " 9   home_ownership              855969 non-null  int32  \n",
      " 10  annual_inc                  855969 non-null  float64\n",
      " 11  verification_status         855969 non-null  int32  \n",
      " 12  issue_d                     855969 non-null  object \n",
      " 13  pymnt_plan                  855969 non-null  int32  \n",
      " 14  purpose                     855969 non-null  int32  \n",
      " 15  title                       855969 non-null  object \n",
      " 16  addr_state                  855969 non-null  object \n",
      " 17  dti                         855969 non-null  float64\n",
      " 18  delinq_2yrs                 855969 non-null  float64\n",
      " 19  inq_last_6mths              855969 non-null  float64\n",
      " 20  open_acc                    855969 non-null  float64\n",
      " 21  pub_rec                     855969 non-null  float64\n",
      " 22  revol_bal                   855969 non-null  float64\n",
      " 23  revol_util                  855523 non-null  float64\n",
      " 24  total_acc                   855969 non-null  float64\n",
      " 25  initial_list_status         855969 non-null  object \n",
      " 26  out_prncp                   855969 non-null  float64\n",
      " 27  out_prncp_inv               855969 non-null  float64\n",
      " 28  total_pymnt                 855969 non-null  float64\n",
      " 29  total_pymnt_inv             855969 non-null  float64\n",
      " 30  total_rec_prncp             855969 non-null  float64\n",
      " 31  total_rec_int               855969 non-null  float64\n",
      " 32  total_rec_late_fee          855969 non-null  float64\n",
      " 33  recoveries                  855969 non-null  float64\n",
      " 34  collection_recovery_fee     855969 non-null  float64\n",
      " 35  last_pymnt_amnt             855969 non-null  float64\n",
      " 36  collections_12_mths_ex_med  855913 non-null  float64\n",
      " 37  application_type            855969 non-null  object \n",
      " 38  acc_now_delinq              855969 non-null  float64\n",
      " 39  default_ind                 855969 non-null  int64  \n",
      " 40  Month                       855969 non-null  float64\n",
      " 41  Year                        855969 non-null  float64\n",
      "dtypes: float64(29), int32(5), int64(3), object(5)\n",
      "memory usage: 258.0+ MB\n"
     ]
    }
   ],
   "source": [
    "df.info()"
   ]
  },
  {
   "cell_type": "code",
   "execution_count": 34,
   "metadata": {},
   "outputs": [
    {
     "data": {
      "text/plain": [
       "CA    125172\n",
       "NY     71114\n",
       "TX     68708\n",
       "FL     58639\n",
       "IL     34379\n",
       "NJ     32061\n",
       "PA     30250\n",
       "OH     28651\n",
       "GA     28043\n",
       "VA     25234\n",
       "NC     23787\n",
       "MI     22175\n",
       "MD     20209\n",
       "MA     19835\n",
       "AZ     19693\n",
       "WA     18816\n",
       "CO     18211\n",
       "MN     15424\n",
       "MO     13743\n",
       "IN     13348\n",
       "CT     13042\n",
       "TN     12392\n",
       "NV     11972\n",
       "WI     11199\n",
       "AL     10732\n",
       "OR     10562\n",
       "SC     10302\n",
       "LA     10186\n",
       "KY      8299\n",
       "OK      7759\n",
       "KS      7693\n",
       "AR      6399\n",
       "UT      6055\n",
       "NM      4757\n",
       "HI      4380\n",
       "WV      4247\n",
       "NH      4156\n",
       "RI      3753\n",
       "MS      3653\n",
       "MT      2466\n",
       "DE      2402\n",
       "DC      2382\n",
       "AK      2134\n",
       "WY      1974\n",
       "VT      1753\n",
       "SD      1745\n",
       "NE      1124\n",
       "ME       491\n",
       "ND       452\n",
       "ID         9\n",
       "IA         7\n",
       "Name: addr_state, dtype: int64"
      ]
     },
     "execution_count": 34,
     "metadata": {},
     "output_type": "execute_result"
    }
   ],
   "source": [
    "df.addr_state.value_counts()"
   ]
  },
  {
   "cell_type": "code",
   "execution_count": 28,
   "metadata": {},
   "outputs": [
    {
     "data": {
      "text/plain": [
       "4     125172\n",
       "34     71114\n",
       "43     68708\n",
       "9      58639\n",
       "14     34379\n",
       "31     32061\n",
       "38     30250\n",
       "35     28651\n",
       "10     28043\n",
       "45     25234\n",
       "27     23787\n",
       "22     22175\n",
       "20     20209\n",
       "19     19835\n",
       "3      19693\n",
       "47     18816\n",
       "5      18211\n",
       "23     15424\n",
       "24     13743\n",
       "15     13348\n",
       "6      13042\n",
       "42     12392\n",
       "33     11972\n",
       "48     11199\n",
       "1      10732\n",
       "37     10562\n",
       "40     10302\n",
       "18     10186\n",
       "17      8299\n",
       "36      7759\n",
       "16      7693\n",
       "2       6399\n",
       "44      6055\n",
       "32      4757\n",
       "11      4380\n",
       "49      4247\n",
       "30      4156\n",
       "39      3753\n",
       "25      3653\n",
       "26      2466\n",
       "8       2402\n",
       "7       2382\n",
       "0       2134\n",
       "50      1974\n",
       "46      1753\n",
       "41      1745\n",
       "29      1124\n",
       "21       491\n",
       "28       452\n",
       "13         9\n",
       "12         7\n",
       "Name: addr_state, dtype: int64"
      ]
     },
     "execution_count": 28,
     "metadata": {},
     "output_type": "execute_result"
    }
   ],
   "source": [
    "df['addr_state'] = le.fit_transform(df['addr_state'])\n",
    "df.addr_state.value_counts()"
   ]
  },
  {
   "cell_type": "code",
   "execution_count": 29,
   "metadata": {},
   "outputs": [
    {
     "data": {
      "text/plain": [
       "f    442555\n",
       "w    413414\n",
       "Name: initial_list_status, dtype: int64"
      ]
     },
     "execution_count": 29,
     "metadata": {},
     "output_type": "execute_result"
    }
   ],
   "source": [
    "df.initial_list_status.value_counts()"
   ]
  },
  {
   "cell_type": "code",
   "execution_count": 30,
   "metadata": {},
   "outputs": [
    {
     "data": {
      "text/plain": [
       "0    442555\n",
       "1    413414\n",
       "Name: initial_list_status, dtype: int64"
      ]
     },
     "execution_count": 30,
     "metadata": {},
     "output_type": "execute_result"
    }
   ],
   "source": [
    "df['initial_list_status'] = le.fit_transform(df['initial_list_status'])\n",
    "df.initial_list_status.value_counts()"
   ]
  },
  {
   "cell_type": "code",
   "execution_count": 31,
   "metadata": {},
   "outputs": [
    {
     "data": {
      "text/plain": [
       "INDIVIDUAL    855527\n",
       "JOINT            442\n",
       "Name: application_type, dtype: int64"
      ]
     },
     "execution_count": 31,
     "metadata": {},
     "output_type": "execute_result"
    }
   ],
   "source": [
    "df.application_type.value_counts()"
   ]
  },
  {
   "cell_type": "code",
   "execution_count": 32,
   "metadata": {},
   "outputs": [
    {
     "data": {
      "text/plain": [
       "0    855527\n",
       "1       442\n",
       "Name: application_type, dtype: int64"
      ]
     },
     "execution_count": 32,
     "metadata": {},
     "output_type": "execute_result"
    }
   ],
   "source": [
    "df['application_type'] = le.fit_transform(df['application_type'])\n",
    "df.application_type.value_counts()"
   ]
  },
  {
   "cell_type": "code",
   "execution_count": 33,
   "metadata": {},
   "outputs": [
    {
     "data": {
      "text/html": [
       "<div>\n",
       "<style scoped>\n",
       "    .dataframe tbody tr th:only-of-type {\n",
       "        vertical-align: middle;\n",
       "    }\n",
       "\n",
       "    .dataframe tbody tr th {\n",
       "        vertical-align: top;\n",
       "    }\n",
       "\n",
       "    .dataframe thead th {\n",
       "        text-align: right;\n",
       "    }\n",
       "</style>\n",
       "<table border=\"1\" class=\"dataframe\">\n",
       "  <thead>\n",
       "    <tr style=\"text-align: right;\">\n",
       "      <th></th>\n",
       "      <th>In Numbers</th>\n",
       "    </tr>\n",
       "  </thead>\n",
       "  <tbody>\n",
       "    <tr>\n",
       "      <th>emp_length</th>\n",
       "      <td>43061</td>\n",
       "    </tr>\n",
       "    <tr>\n",
       "      <th>revol_util</th>\n",
       "      <td>446</td>\n",
       "    </tr>\n",
       "    <tr>\n",
       "      <th>collections_12_mths_ex_med</th>\n",
       "      <td>56</td>\n",
       "    </tr>\n",
       "    <tr>\n",
       "      <th>total_rec_int</th>\n",
       "      <td>0</td>\n",
       "    </tr>\n",
       "    <tr>\n",
       "      <th>total_acc</th>\n",
       "      <td>0</td>\n",
       "    </tr>\n",
       "    <tr>\n",
       "      <th>initial_list_status</th>\n",
       "      <td>0</td>\n",
       "    </tr>\n",
       "    <tr>\n",
       "      <th>out_prncp</th>\n",
       "      <td>0</td>\n",
       "    </tr>\n",
       "    <tr>\n",
       "      <th>out_prncp_inv</th>\n",
       "      <td>0</td>\n",
       "    </tr>\n",
       "    <tr>\n",
       "      <th>total_pymnt</th>\n",
       "      <td>0</td>\n",
       "    </tr>\n",
       "    <tr>\n",
       "      <th>total_pymnt_inv</th>\n",
       "      <td>0</td>\n",
       "    </tr>\n",
       "    <tr>\n",
       "      <th>total_rec_prncp</th>\n",
       "      <td>0</td>\n",
       "    </tr>\n",
       "    <tr>\n",
       "      <th>loan_amnt</th>\n",
       "      <td>0</td>\n",
       "    </tr>\n",
       "    <tr>\n",
       "      <th>total_rec_late_fee</th>\n",
       "      <td>0</td>\n",
       "    </tr>\n",
       "    <tr>\n",
       "      <th>revol_bal</th>\n",
       "      <td>0</td>\n",
       "    </tr>\n",
       "    <tr>\n",
       "      <th>collection_recovery_fee</th>\n",
       "      <td>0</td>\n",
       "    </tr>\n",
       "    <tr>\n",
       "      <th>last_pymnt_amnt</th>\n",
       "      <td>0</td>\n",
       "    </tr>\n",
       "    <tr>\n",
       "      <th>application_type</th>\n",
       "      <td>0</td>\n",
       "    </tr>\n",
       "    <tr>\n",
       "      <th>acc_now_delinq</th>\n",
       "      <td>0</td>\n",
       "    </tr>\n",
       "    <tr>\n",
       "      <th>default_ind</th>\n",
       "      <td>0</td>\n",
       "    </tr>\n",
       "    <tr>\n",
       "      <th>Month</th>\n",
       "      <td>0</td>\n",
       "    </tr>\n",
       "    <tr>\n",
       "      <th>recoveries</th>\n",
       "      <td>0</td>\n",
       "    </tr>\n",
       "    <tr>\n",
       "      <th>pub_rec</th>\n",
       "      <td>0</td>\n",
       "    </tr>\n",
       "    <tr>\n",
       "      <th>funded_amnt</th>\n",
       "      <td>0</td>\n",
       "    </tr>\n",
       "    <tr>\n",
       "      <th>open_acc</th>\n",
       "      <td>0</td>\n",
       "    </tr>\n",
       "    <tr>\n",
       "      <th>funded_amnt_inv</th>\n",
       "      <td>0</td>\n",
       "    </tr>\n",
       "    <tr>\n",
       "      <th>term</th>\n",
       "      <td>0</td>\n",
       "    </tr>\n",
       "    <tr>\n",
       "      <th>int_rate</th>\n",
       "      <td>0</td>\n",
       "    </tr>\n",
       "    <tr>\n",
       "      <th>installment</th>\n",
       "      <td>0</td>\n",
       "    </tr>\n",
       "    <tr>\n",
       "      <th>grade</th>\n",
       "      <td>0</td>\n",
       "    </tr>\n",
       "    <tr>\n",
       "      <th>sub_grade</th>\n",
       "      <td>0</td>\n",
       "    </tr>\n",
       "    <tr>\n",
       "      <th>home_ownership</th>\n",
       "      <td>0</td>\n",
       "    </tr>\n",
       "    <tr>\n",
       "      <th>annual_inc</th>\n",
       "      <td>0</td>\n",
       "    </tr>\n",
       "    <tr>\n",
       "      <th>verification_status</th>\n",
       "      <td>0</td>\n",
       "    </tr>\n",
       "    <tr>\n",
       "      <th>issue_d</th>\n",
       "      <td>0</td>\n",
       "    </tr>\n",
       "    <tr>\n",
       "      <th>pymnt_plan</th>\n",
       "      <td>0</td>\n",
       "    </tr>\n",
       "    <tr>\n",
       "      <th>purpose</th>\n",
       "      <td>0</td>\n",
       "    </tr>\n",
       "    <tr>\n",
       "      <th>title</th>\n",
       "      <td>0</td>\n",
       "    </tr>\n",
       "    <tr>\n",
       "      <th>addr_state</th>\n",
       "      <td>0</td>\n",
       "    </tr>\n",
       "    <tr>\n",
       "      <th>dti</th>\n",
       "      <td>0</td>\n",
       "    </tr>\n",
       "    <tr>\n",
       "      <th>delinq_2yrs</th>\n",
       "      <td>0</td>\n",
       "    </tr>\n",
       "    <tr>\n",
       "      <th>inq_last_6mths</th>\n",
       "      <td>0</td>\n",
       "    </tr>\n",
       "    <tr>\n",
       "      <th>Year</th>\n",
       "      <td>0</td>\n",
       "    </tr>\n",
       "  </tbody>\n",
       "</table>\n",
       "</div>"
      ],
      "text/plain": [
       "                            In Numbers\n",
       "emp_length                       43061\n",
       "revol_util                         446\n",
       "collections_12_mths_ex_med          56\n",
       "total_rec_int                        0\n",
       "total_acc                            0\n",
       "initial_list_status                  0\n",
       "out_prncp                            0\n",
       "out_prncp_inv                        0\n",
       "total_pymnt                          0\n",
       "total_pymnt_inv                      0\n",
       "total_rec_prncp                      0\n",
       "loan_amnt                            0\n",
       "total_rec_late_fee                   0\n",
       "revol_bal                            0\n",
       "collection_recovery_fee              0\n",
       "last_pymnt_amnt                      0\n",
       "application_type                     0\n",
       "acc_now_delinq                       0\n",
       "default_ind                          0\n",
       "Month                                0\n",
       "recoveries                           0\n",
       "pub_rec                              0\n",
       "funded_amnt                          0\n",
       "open_acc                             0\n",
       "funded_amnt_inv                      0\n",
       "term                                 0\n",
       "int_rate                             0\n",
       "installment                          0\n",
       "grade                                0\n",
       "sub_grade                            0\n",
       "home_ownership                       0\n",
       "annual_inc                           0\n",
       "verification_status                  0\n",
       "issue_d                              0\n",
       "pymnt_plan                           0\n",
       "purpose                              0\n",
       "title                                0\n",
       "addr_state                           0\n",
       "dti                                  0\n",
       "delinq_2yrs                          0\n",
       "inq_last_6mths                       0\n",
       "Year                                 0"
      ]
     },
     "execution_count": 33,
     "metadata": {},
     "output_type": "execute_result"
    }
   ],
   "source": [
    "missing_data(df)"
   ]
  },
  {
   "cell_type": "markdown",
   "metadata": {},
   "source": [
    "#model building"
   ]
  },
  {
   "cell_type": "code",
   "execution_count": 34,
   "metadata": {},
   "outputs": [],
   "source": [
    "df['emp_length'].fillna(1,inplace=True)"
   ]
  },
  {
   "cell_type": "code",
   "execution_count": 35,
   "metadata": {},
   "outputs": [],
   "source": [
    "df = df.dropna()"
   ]
  },
  {
   "cell_type": "code",
   "execution_count": 36,
   "metadata": {},
   "outputs": [],
   "source": [
    "df['last']=df['default_ind']\n",
    "del df['default_ind']\n",
    "df['default_ind']=df['last']\n",
    "del df['last']"
   ]
  },
  {
   "cell_type": "code",
   "execution_count": 37,
   "metadata": {},
   "outputs": [],
   "source": [
    "# droppping two more object columns\n",
    "del df['issue_d']\n",
    "del df['title']"
   ]
  },
  {
   "cell_type": "code",
   "execution_count": 38,
   "metadata": {},
   "outputs": [
    {
     "data": {
      "text/plain": [
       "(855467, 40)"
      ]
     },
     "execution_count": 38,
     "metadata": {},
     "output_type": "execute_result"
    }
   ],
   "source": [
    "df.shape"
   ]
  },
  {
   "cell_type": "code",
   "execution_count": 59,
   "metadata": {},
   "outputs": [
    {
     "name": "stdout",
     "output_type": "stream",
     "text": [
      "<class 'pandas.core.frame.DataFrame'>\n",
      "Int64Index: 855467 entries, 0 to 855968\n",
      "Data columns (total 40 columns):\n",
      " #   Column                      Non-Null Count   Dtype  \n",
      "---  ------                      --------------   -----  \n",
      " 0   loan_amnt                   855467 non-null  float64\n",
      " 1   funded_amnt                 855467 non-null  float64\n",
      " 2   funded_amnt_inv             855467 non-null  float64\n",
      " 3   term                        855467 non-null  int64  \n",
      " 4   int_rate                    855467 non-null  float64\n",
      " 5   installment                 855467 non-null  float64\n",
      " 6   grade                       855467 non-null  int64  \n",
      " 7   sub_grade                   855467 non-null  int32  \n",
      " 8   emp_length                  855467 non-null  float64\n",
      " 9   home_ownership              855467 non-null  int32  \n",
      " 10  annual_inc                  855467 non-null  float64\n",
      " 11  verification_status         855467 non-null  int32  \n",
      " 12  pymnt_plan                  855467 non-null  int32  \n",
      " 13  purpose                     855467 non-null  int32  \n",
      " 14  addr_state                  855467 non-null  int32  \n",
      " 15  dti                         855467 non-null  float64\n",
      " 16  delinq_2yrs                 855467 non-null  float64\n",
      " 17  inq_last_6mths              855467 non-null  float64\n",
      " 18  open_acc                    855467 non-null  float64\n",
      " 19  pub_rec                     855467 non-null  float64\n",
      " 20  revol_bal                   855467 non-null  float64\n",
      " 21  revol_util                  855467 non-null  float64\n",
      " 22  total_acc                   855467 non-null  float64\n",
      " 23  initial_list_status         855467 non-null  int32  \n",
      " 24  out_prncp                   855467 non-null  float64\n",
      " 25  out_prncp_inv               855467 non-null  float64\n",
      " 26  total_pymnt                 855467 non-null  float64\n",
      " 27  total_pymnt_inv             855467 non-null  float64\n",
      " 28  total_rec_prncp             855467 non-null  float64\n",
      " 29  total_rec_int               855467 non-null  float64\n",
      " 30  total_rec_late_fee          855467 non-null  float64\n",
      " 31  recoveries                  855467 non-null  float64\n",
      " 32  collection_recovery_fee     855467 non-null  float64\n",
      " 33  last_pymnt_amnt             855467 non-null  float64\n",
      " 34  collections_12_mths_ex_med  855467 non-null  float64\n",
      " 35  application_type            855467 non-null  int32  \n",
      " 36  acc_now_delinq              855467 non-null  float64\n",
      " 37  Month                       855467 non-null  float64\n",
      " 38  Year                        855467 non-null  float64\n",
      " 39  default_ind                 855467 non-null  int64  \n",
      "dtypes: float64(29), int32(8), int64(3)\n",
      "memory usage: 241.5 MB\n"
     ]
    }
   ],
   "source": [
    "df.info()"
   ]
  },
  {
   "cell_type": "markdown",
   "metadata": {},
   "source": [
    "# Splitting of Data"
   ]
  },
  {
   "cell_type": "code",
   "execution_count": 39,
   "metadata": {},
   "outputs": [
    {
     "data": {
      "text/plain": [
       "((855467, 39), (855467,))"
      ]
     },
     "execution_count": 39,
     "metadata": {},
     "output_type": "execute_result"
    }
   ],
   "source": [
    "X=df.iloc[:,:-1].values\n",
    "y=df.iloc[:,-1].values\n",
    "\n",
    "X.shape, y.shape"
   ]
  },
  {
   "cell_type": "code",
   "execution_count": 45,
   "metadata": {},
   "outputs": [],
   "source": [
    "from imblearn.under_sampling import NearMiss\n",
    "from sklearn.model_selection import train_test_split\n",
    "from sklearn.utils import class_weight\n",
    "from xgboost import XGBClassifier\n",
    "from sklearn.linear_model import LogisticRegression\n",
    "from sklearn.ensemble import RandomForestClassifier\n",
    "from sklearn.metrics import confusion_matrix, classification_report\n",
    "from sklearn.model_selection import cross_val_score\n",
    "from sklearn.metrics import roc_curve\n",
    "from sklearn.metrics import make_scorer, accuracy_score, average_precision_score,roc_auc_score\n",
    "from sklearn.metrics import f1_score,roc_curve,recall_score\n",
    "from sklearn import preprocessing\n",
    "from sklearn.model_selection import cross_val_score\n",
    "from sklearn import metrics\n",
    "from scipy import stats\n",
    "import xgboost as xgb"
   ]
  },
  {
   "cell_type": "code",
   "execution_count": 41,
   "metadata": {},
   "outputs": [],
   "source": [
    "X_train,X_test,y_train,y_test=train_test_split(X,y,test_size=0.25,random_state=42)"
   ]
  },
  {
   "cell_type": "markdown",
   "metadata": {},
   "source": [
    "# RandomForest Classifier"
   ]
  },
  {
   "cell_type": "code",
   "execution_count": 42,
   "metadata": {},
   "outputs": [],
   "source": [
    "lr=RandomForestClassifier(n_estimators=10, criterion='entropy')\n",
    "lr.fit(X_train,y_train)\n",
    "y_pred=lr.predict(X_test)\n",
    "y_pred_prob=lr.predict_proba(X_test)"
   ]
  },
  {
   "cell_type": "code",
   "execution_count": 43,
   "metadata": {},
   "outputs": [
    {
     "name": "stdout",
     "output_type": "stream",
     "text": [
      "[[202292      1]\n",
      " [   443  11131]]\n",
      "              precision    recall  f1-score   support\n",
      "\n",
      "           0       1.00      1.00      1.00    202293\n",
      "           1       1.00      0.96      0.98     11574\n",
      "\n",
      "    accuracy                           1.00    213867\n",
      "   macro avg       1.00      0.98      0.99    213867\n",
      "weighted avg       1.00      1.00      1.00    213867\n",
      "\n"
     ]
    }
   ],
   "source": [
    "print(confusion_matrix(y_test,y_pred))\n",
    "print(classification_report(y_test,y_pred))"
   ]
  },
  {
   "cell_type": "code",
   "execution_count": 46,
   "metadata": {},
   "outputs": [
    {
     "name": "stdout",
     "output_type": "stream",
     "text": [
      "accuracy Score on train using RandomForest : 0.999552680798005\n"
     ]
    }
   ],
   "source": [
    "#model on train using all the independent values in df\n",
    "rfc_prediction = lr.predict(X_train)\n",
    "rfc_score= accuracy_score(y_train,rfc_prediction)\n",
    "print('accuracy Score on train using RandomForest :',rfc_score)"
   ]
  },
  {
   "cell_type": "markdown",
   "metadata": {},
   "source": [
    "# decsion Tree Classifier"
   ]
  },
  {
   "cell_type": "code",
   "execution_count": 47,
   "metadata": {},
   "outputs": [
    {
     "data": {
      "text/plain": [
       "DecisionTreeClassifier()"
      ]
     },
     "execution_count": 47,
     "metadata": {},
     "output_type": "execute_result"
    }
   ],
   "source": [
    "from sklearn.tree import DecisionTreeClassifier\n",
    "dec=DecisionTreeClassifier()\n",
    "dec.fit(X_train,y_train)"
   ]
  },
  {
   "cell_type": "code",
   "execution_count": 48,
   "metadata": {},
   "outputs": [
    {
     "name": "stdout",
     "output_type": "stream",
     "text": [
      "Accuracy score on train using Decision Tree : 1.0\n"
     ]
    }
   ],
   "source": [
    "#model on train using all the independent values in df\n",
    "dec_prediction = dec.predict(X_train)\n",
    "dec_score= accuracy_score(y_train,dec_prediction)\n",
    "print('Accuracy score on train using Decision Tree :',dec_score)"
   ]
  },
  {
   "cell_type": "code",
   "execution_count": 70,
   "metadata": {},
   "outputs": [
    {
     "name": "stdout",
     "output_type": "stream",
     "text": [
      "[[201952    443]\n",
      " [   364  11108]]\n",
      "              precision    recall  f1-score   support\n",
      "\n",
      "           0       1.00      1.00      1.00    202395\n",
      "           1       0.96      0.97      0.96     11472\n",
      "\n",
      "    accuracy                           1.00    213867\n",
      "   macro avg       0.98      0.98      0.98    213867\n",
      "weighted avg       1.00      1.00      1.00    213867\n",
      "\n"
     ]
    }
   ],
   "source": [
    "y_pred_dt=dec.predict(X_test)\n",
    "print(confusion_matrix(y_test,y_pred_dt))\n",
    "print(classification_report(y_test,y_pred_dt))"
   ]
  },
  {
   "cell_type": "code",
   "execution_count": 49,
   "metadata": {},
   "outputs": [],
   "source": [
    "# ada boosting classifier\n",
    "from sklearn.ensemble import AdaBoostClassifier\n",
    "ada =AdaBoostClassifier(n_estimators=100)"
   ]
  },
  {
   "cell_type": "code",
   "execution_count": 50,
   "metadata": {},
   "outputs": [
    {
     "data": {
      "text/plain": [
       "AdaBoostClassifier(n_estimators=100)"
      ]
     },
     "execution_count": 50,
     "metadata": {},
     "output_type": "execute_result"
    }
   ],
   "source": [
    "ada.fit(X_train,y_train)"
   ]
  },
  {
   "cell_type": "code",
   "execution_count": 51,
   "metadata": {},
   "outputs": [
    {
     "name": "stdout",
     "output_type": "stream",
     "text": [
      "Accuracy score on train using AdaBoost : 0.9955938279301746\n"
     ]
    }
   ],
   "source": [
    "#model on train using all the independent values in df\n",
    "ada_prediction = ada.predict(X_train)\n",
    "ada_score= accuracy_score(y_train,ada_prediction)\n",
    "print('Accuracy score on train using AdaBoost :',ada_score)"
   ]
  },
  {
   "cell_type": "code",
   "execution_count": 52,
   "metadata": {},
   "outputs": [
    {
     "name": "stdout",
     "output_type": "stream",
     "text": [
      "[[606618    143]\n",
      " [  2684  32155]]\n",
      "AUC on train using AdaBoost : 0.9613621118104729\n",
      "Average precision-recall score: 0.92\n",
      "recall_score on train set : 0.9229599012600821\n",
      "F1_sccore on train set : 0.9578920714360188\n",
      "classification report on train using Extra tree                precision    recall  f1-score   support\n",
      "\n",
      "           0       1.00      1.00      1.00    606761\n",
      "           1       1.00      0.92      0.96     34839\n",
      "\n",
      "    accuracy                           1.00    641600\n",
      "   macro avg       1.00      0.96      0.98    641600\n",
      "weighted avg       1.00      1.00      1.00    641600\n",
      "\n"
     ]
    }
   ],
   "source": [
    "print(confusion_matrix(y_train, ada_prediction))\n",
    "fpr, tpr, thresholds = metrics.roc_curve(y_train,ada_prediction)\n",
    "print(\"AUC on train using AdaBoost :\",metrics.auc(fpr, tpr))\n",
    "average_precision = average_precision_score(y_train, ada_prediction)\n",
    "print('Average precision-recall score: {0:0.2f}'.format(average_precision))\n",
    "print('recall_score on train set :',recall_score(y_train, ada_prediction))\n",
    "print('F1_sccore on train set :',f1_score(y_train, ada_prediction))\n",
    "print('classification report on train using Extra tree ',classification_report(y_train,ada_prediction))"
   ]
  },
  {
   "cell_type": "code",
   "execution_count": 53,
   "metadata": {},
   "outputs": [
    {
     "name": "stderr",
     "output_type": "stream",
     "text": [
      "c:\\Users\\saurav\\Anaconda3\\lib\\site-packages\\sklearn\\linear_model\\_logistic.py:818: ConvergenceWarning: lbfgs failed to converge (status=1):\n",
      "STOP: TOTAL NO. of ITERATIONS REACHED LIMIT.\n",
      "\n",
      "Increase the number of iterations (max_iter) or scale the data as shown in:\n",
      "    https://scikit-learn.org/stable/modules/preprocessing.html\n",
      "Please also refer to the documentation for alternative solver options:\n",
      "    https://scikit-learn.org/stable/modules/linear_model.html#logistic-regression\n",
      "  extra_warning_msg=_LOGISTIC_SOLVER_CONVERGENCE_MSG,\n"
     ]
    },
    {
     "data": {
      "text/plain": [
       "LogisticRegression()"
      ]
     },
     "execution_count": 53,
     "metadata": {},
     "output_type": "execute_result"
    }
   ],
   "source": [
    "# logictics regression\n",
    "log =LogisticRegression()\n",
    "log.fit(X_train,y_train)"
   ]
  },
  {
   "cell_type": "code",
   "execution_count": 54,
   "metadata": {},
   "outputs": [
    {
     "name": "stdout",
     "output_type": "stream",
     "text": [
      "Accuracy score on train set using Logistic Regression : 0.9975420822942643\n"
     ]
    }
   ],
   "source": [
    "log_prediction = log.predict(X_train)\n",
    "log_score= accuracy_score(y_train,log_prediction)\n",
    "print('Accuracy score on train set using Logistic Regression :',log_score)"
   ]
  },
  {
   "cell_type": "code",
   "execution_count": null,
   "metadata": {},
   "outputs": [],
   "source": []
  }
 ],
 "metadata": {
  "interpreter": {
   "hash": "447b36108fd6753a1c09ea0b5e3f64512bee57754dab52feb39d9294b79bdf32"
  },
  "kernelspec": {
   "display_name": "Python 3.7.4 ('base')",
   "language": "python",
   "name": "python3"
  },
  "language_info": {
   "codemirror_mode": {
    "name": "ipython",
    "version": 3
   },
   "file_extension": ".py",
   "mimetype": "text/x-python",
   "name": "python",
   "nbconvert_exporter": "python",
   "pygments_lexer": "ipython3",
   "version": "3.7.4"
  },
  "orig_nbformat": 4
 },
 "nbformat": 4,
 "nbformat_minor": 2
}
